{
  "nbformat": 4,
  "nbformat_minor": 0,
  "metadata": {
    "colab": {
      "provenance": [],
      "authorship_tag": "ABX9TyPHihHqkN0YY3lSKVpjMMi4",
      "include_colab_link": true
    },
    "kernelspec": {
      "name": "python3",
      "display_name": "Python 3"
    },
    "language_info": {
      "name": "python"
    }
  },
  "cells": [
    {
      "cell_type": "markdown",
      "metadata": {
        "id": "view-in-github",
        "colab_type": "text"
      },
      "source": [
        "<a href=\"https://colab.research.google.com/github/Lily88612/PrimerRepo/blob/models/_init__py.ipynb\" target=\"_parent\"><img src=\"https://colab.research.google.com/assets/colab-badge.svg\" alt=\"Open In Colab\"/></a>"
      ]
    },
    {
      "cell_type": "code",
      "execution_count": 1,
      "metadata": {
        "colab": {
          "base_uri": "https://localhost:8080/"
        },
        "id": "bfb-F1-irY6_",
        "outputId": "0f53c937-4a89-4e59-eaab-36dff9bda694"
      },
      "outputs": [
        {
          "output_type": "stream",
          "name": "stdout",
          "text": [
            "Directorio \"models\" y archivos creados exitosamente.\n"
          ]
        }
      ],
      "source": [
        "import os\n",
        "\n",
        "# Nombre del directorio\n",
        "directory = 'models'\n",
        "\n",
        "# Archivos a crear\n",
        "files = ['__init__.py', 'admin.py', 'user.py']\n",
        "\n",
        "# Crear el directorio si no existe\n",
        "if not os.path.exists(directory):\n",
        "    os.makedirs(directory)\n",
        "\n",
        "# Crear los archivos dentro del directorio\n",
        "for file in files:\n",
        "    open(os.path.join(directory, file), 'w').close()\n",
        "\n",
        "print(f'Directorio \"{directory}\" y archivos creados exitosamente.')\n"
      ]
    }
  ]
}