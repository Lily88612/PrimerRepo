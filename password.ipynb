{
  "nbformat": 4,
  "nbformat_minor": 0,
  "metadata": {
    "colab": {
      "provenance": [],
      "authorship_tag": "ABX9TyM3pPtxEpyeZMMkMAOpsOIP",
      "include_colab_link": true
    },
    "kernelspec": {
      "name": "python3",
      "display_name": "Python 3"
    },
    "language_info": {
      "name": "python"
    }
  },
  "cells": [
    {
      "cell_type": "markdown",
      "metadata": {
        "id": "view-in-github",
        "colab_type": "text"
      },
      "source": [
        "<a href=\"https://colab.research.google.com/github/Lily88612/PrimerRepo/blob/main/password.ipynb\" target=\"_parent\"><img src=\"https://colab.research.google.com/assets/colab-badge.svg\" alt=\"Open In Colab\"/></a>"
      ]
    },
    {
      "cell_type": "code",
      "execution_count": 1,
      "metadata": {
        "colab": {
          "base_uri": "https://localhost:8080/"
        },
        "id": "eAcJhDtrzzVD",
        "outputId": "4030432f-c1ed-4613-a448-1c362ae73d07"
      },
      "outputs": [
        {
          "output_type": "stream",
          "name": "stdout",
          "text": [
            "La contraseña 'Password123@' es válida.\n",
            "La contraseña 'passw' no es válida.\n",
            "La contraseña 'PASSWORD123@' no es válida.\n",
            "La contraseña 'Pass123' no es válida.\n",
            "La contraseña 'Passw@rd' no es válida.\n"
          ]
        }
      ],
      "source": [
        "import re\n",
        "\n",
        "def is_valid_password(password):\n",
        "    # Verifica la longitud de la contraseña\n",
        "    if len(password) < 6 or len(password) > 16:\n",
        "        return False\n",
        "\n",
        "    # Verifica si contiene al menos una letra minúscula (a-z)\n",
        "    if not re.search(r'[a-z]', password):\n",
        "        return False\n",
        "\n",
        "    # Verifica si contiene al menos una letra mayúscula (A-Z)\n",
        "    if not re.search(r'[A-Z]', password):\n",
        "        return False\n",
        "\n",
        "    # Verifica si contiene al menos un número (0-9)\n",
        "    if not re.search(r'\\d', password):\n",
        "        return False\n",
        "\n",
        "    # Verifica si contiene al menos un carácter especial ($, %, @)\n",
        "    if not re.search(r'[$%@]', password):\n",
        "        return False\n",
        "\n",
        "    return True\n",
        "\n",
        "# Ejemplo de uso\n",
        "passwords = [\"Password123@\", \"passw\", \"PASSWORD123@\", \"Pass123\", \"Passw@rd\"]\n",
        "\n",
        "for pwd in passwords:\n",
        "    if is_valid_password(pwd):\n",
        "        print(f\"La contraseña '{pwd}' es válida.\")\n",
        "    else:\n",
        "        print(f\"La contraseña '{pwd}' no es válida.\")\n"
      ]
    }
  ]
}