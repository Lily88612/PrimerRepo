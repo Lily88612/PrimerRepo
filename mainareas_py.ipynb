{
  "nbformat": 4,
  "nbformat_minor": 0,
  "metadata": {
    "colab": {
      "provenance": [],
      "authorship_tag": "ABX9TyOdmBZ3Odx7KWcWwP0PXgOy",
      "include_colab_link": true
    },
    "kernelspec": {
      "name": "python3",
      "display_name": "Python 3"
    },
    "language_info": {
      "name": "python"
    }
  },
  "cells": [
    {
      "cell_type": "markdown",
      "metadata": {
        "id": "view-in-github",
        "colab_type": "text"
      },
      "source": [
        "<a href=\"https://colab.research.google.com/github/Lily88612/PrimerRepo/blob/main/mainareas_py.ipynb\" target=\"_parent\"><img src=\"https://colab.research.google.com/assets/colab-badge.svg\" alt=\"Open In Colab\"/></a>"
      ]
    },
    {
      "cell_type": "code",
      "execution_count": 3,
      "metadata": {
        "colab": {
          "base_uri": "https://localhost:8080/",
          "height": 383
        },
        "id": "vCkZJy3DAbiY",
        "outputId": "c6c58b2d-49b3-411e-f117-5a74382e6bd0"
      },
      "outputs": [
        {
          "output_type": "error",
          "ename": "ModuleNotFoundError",
          "evalue": "No module named 'areas'",
          "traceback": [
            "\u001b[0;31m---------------------------------------------------------------------------\u001b[0m",
            "\u001b[0;31mModuleNotFoundError\u001b[0m                       Traceback (most recent call last)",
            "\u001b[0;32m<ipython-input-3-dd8267f2a4f9>\u001b[0m in \u001b[0;36m<cell line: 0>\u001b[0;34m()\u001b[0m\n\u001b[1;32m     12\u001b[0m \u001b[0;34m\u001b[0m\u001b[0m\n\u001b[1;32m     13\u001b[0m \u001b[0;31m# main.py\u001b[0m\u001b[0;34m\u001b[0m\u001b[0;34m\u001b[0m\u001b[0m\n\u001b[0;32m---> 14\u001b[0;31m \u001b[0;32mfrom\u001b[0m \u001b[0mareas\u001b[0m \u001b[0;32mimport\u001b[0m \u001b[0marea_rectangle\u001b[0m\u001b[0;34m,\u001b[0m \u001b[0marea_triangle\u001b[0m\u001b[0;34m,\u001b[0m \u001b[0marea_circle\u001b[0m\u001b[0;34m\u001b[0m\u001b[0;34m\u001b[0m\u001b[0m\n\u001b[0m\u001b[1;32m     15\u001b[0m \u001b[0;34m\u001b[0m\u001b[0m\n\u001b[1;32m     16\u001b[0m \u001b[0;32mdef\u001b[0m \u001b[0mmain\u001b[0m\u001b[0;34m(\u001b[0m\u001b[0;34m)\u001b[0m\u001b[0;34m:\u001b[0m\u001b[0;34m\u001b[0m\u001b[0;34m\u001b[0m\u001b[0m\n",
            "\u001b[0;31mModuleNotFoundError\u001b[0m: No module named 'areas'",
            "",
            "\u001b[0;31m---------------------------------------------------------------------------\u001b[0;32m\nNOTE: If your import is failing due to a missing package, you can\nmanually install dependencies using either !pip or !apt.\n\nTo view examples of installing some common dependencies, click the\n\"Open Examples\" button below.\n\u001b[0;31m---------------------------------------------------------------------------\u001b[0m\n"
          ],
          "errorDetails": {
            "actions": [
              {
                "action": "open_url",
                "actionText": "Open Examples",
                "url": "/notebooks/snippets/importing_libraries.ipynb"
              }
            ]
          }
        }
      ],
      "source": [
        "# areas.py\n",
        "import math\n",
        "\n",
        "def area_rectangle(a, b):\n",
        "    return a * b\n",
        "\n",
        "def area_triangle(h, a):\n",
        "    return 0.5 * h * a\n",
        "\n",
        "def area_circle(r):\n",
        "    return math.pi * math.pow(r, 2)\n",
        "\n",
        "# main.py\n",
        "from areas import area_rectangle, area_triangle, area_circle\n",
        "\n",
        "def main():\n",
        "    print(\"Seleccione la figura de la cual desea calcular el área:\")\n",
        "    print(\"1. Rectángulo\")\n",
        "    print(\"2. Triángulo\")\n",
        "    print(\"3. Círculo\")\n",
        "\n",
        "    choice = input(\"Ingrese el número de su elección: \")\n",
        "\n",
        "    if choice == '1':\n",
        "        a = float(input(\"Ingrese el valor de 'a' (lado 1): \"))\n",
        "        b = float(input(\"Ingrese el valor de 'b' (lado 2): \"))\n",
        "        print(f\"El área del rectángulo es: {area_rectangle(a, b)}\")\n",
        "    elif choice == '2':\n",
        "        h = float(input(\"Ingrese el valor de 'h' (altura): \"))\n",
        "        a = float(input(\"Ingrese el valor de 'a' (base): \"))\n",
        "        print(f\"El área del triángulo es: {area_triangle(h, a)}\")\n",
        "    elif choice == '3':\n",
        "        r = float(input(\"Ingrese el valor de 'r' (radio): \"))\n",
        "        print(f\"El área del círculo es: {area_circle(r)}\")\n",
        "    else:\n",
        "        print(\"Opción no válida. Por favor, seleccione 1, 2 o 3.\")\n",
        "\n",
        "if __name__ == \"__main__\":\n",
        "    main()\n"
      ]
    }
  ]
}