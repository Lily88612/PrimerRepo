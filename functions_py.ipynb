{
  "nbformat": 4,
  "nbformat_minor": 0,
  "metadata": {
    "colab": {
      "provenance": [],
      "authorship_tag": "ABX9TyMqcuhPE8EZHITUyfbShrd7",
      "include_colab_link": true
    },
    "kernelspec": {
      "name": "python3",
      "display_name": "Python 3"
    },
    "language_info": {
      "name": "python"
    }
  },
  "cells": [
    {
      "cell_type": "markdown",
      "metadata": {
        "id": "view-in-github",
        "colab_type": "text"
      },
      "source": [
        "<a href=\"https://colab.research.google.com/github/Lily88612/PrimerRepo/blob/main/functions_py.ipynb\" target=\"_parent\"><img src=\"https://colab.research.google.com/assets/colab-badge.svg\" alt=\"Open In Colab\"/></a>"
      ]
    },
    {
      "cell_type": "code",
      "execution_count": null,
      "metadata": {
        "id": "WI_AE3dqAUPb"
      },
      "outputs": [],
      "source": [
        "def max_of_two_numbers(num1, num2):\n",
        "    \"\"\"\n",
        "    Returns the largest of two numbers.\n",
        "\n",
        "    Parameters:\n",
        "    num1 (int or float): The first number to compare.\n",
        "    num2 (int or float): The second number to compare.\n",
        "\n",
        "    Returns:\n",
        "    int or float: The largest of the two numbers.\n",
        "    \"\"\"\n",
        "    if num1 > num2:\n",
        "        return num1\n",
        "    else:\n",
        "        return num2\n"
      ]
    },
    {
      "cell_type": "code",
      "source": [
        "import math\n",
        "\n",
        "def area_of_rectangle(length, width):\n",
        "    \"\"\"\n",
        "    Calculates the area of a rectangle.\n",
        "\n",
        "    Parameters:\n",
        "    length (float): The length of the rectangle.\n",
        "    width (float): The width of the rectangle.\n",
        "\n",
        "    Returns:\n",
        "    float: The area of the rectangle.\n",
        "    \"\"\"\n",
        "    return length * width\n",
        "\n",
        "def area_of_triangle(base, height):\n",
        "    \"\"\"\n",
        "    Calculates the area of a triangle.\n",
        "\n",
        "    Parameters:\n",
        "    base (float): The base of the triangle.\n",
        "    height (float): The height of the triangle.\n",
        "\n",
        "    Returns:\n",
        "    float: The area of the triangle.\n",
        "    \"\"\"\n",
        "    return 0.5 * base * height\n",
        "\n",
        "def area_of_circle(radius):\n",
        "    \"\"\"\n",
        "    Calculates the area of a circle.\n",
        "\n",
        "    Parameters:\n",
        "    radius (float): The radius of the circle.\n",
        "\n",
        "    Returns:\n",
        "    float: The area of the circle.\n",
        "    \"\"\"\n",
        "    return math.pi * radius ** 2\n",
        "\n",
        "def main():\n",
        "    print(\"Choose a shape to calculate the area:\")\n",
        "    print(\"1. Rectangle\")\n",
        "    print(\"2. Triangle\")\n",
        "    print(\"3. Circle\")\n",
        "\n",
        "    choice = input(\"Enter the number of your choice: \")\n",
        "\n",
        "    if choice == \"1\":\n",
        "        length = float(input(\"Enter the length of the rectangle: \"))\n",
        "        width = float(input(\"Enter the width of the rectangle: \"))\n",
        "        print(\"The area of the rectangle is:\", area_of_rectangle(length, width))\n",
        "    elif choice == \"2\":\n",
        "        base = float(input(\"Enter the base of the triangle: \"))\n",
        "        height = float(input(\"Enter the height of the triangle: \"))\n",
        "        print(\"The area of the triangle is:\", area_of_triangle(base, height))\n",
        "    elif choice == \"3\":\n",
        "        radius = float(input(\"Enter the radius of the circle: \"))\n",
        "        print(\"The area of the circle is:\", area_of_circle(radius))\n",
        "    else:\n",
        "        print(\"Invalid choice. Please select 1, 2, or 3.\")\n",
        "\n",
        "if __name__ == \"__main__\":\n",
        "    main()\n",
        "\n"
      ],
      "metadata": {
        "colab": {
          "base_uri": "https://localhost:8080/"
        },
        "id": "P5djNqucBRKa",
        "outputId": "83d4b182-0ccf-4d0d-9b98-8362d124135a"
      },
      "execution_count": null,
      "outputs": [
        {
          "output_type": "stream",
          "name": "stdout",
          "text": [
            "Choose a shape to calculate the area:\n",
            "1. Rectangle\n",
            "2. Triangle\n",
            "3. Circle\n",
            "Enter the number of your choice: 1\n",
            "Enter the length of the rectangle: 12\n",
            "Enter the width of the rectangle: 6\n",
            "The area of the rectangle is: 72.0\n"
          ]
        }
      ]
    },
    {
      "cell_type": "code",
      "source": [
        "def count_characters(input_string):\n",
        "    \"\"\"\n",
        "    Calculates the number of occurrences of each character in the given string.\n",
        "\n",
        "    Parameters:\n",
        "    input_string (str): The string for which to count character occurrences.\n",
        "\n",
        "    Returns:\n",
        "    None: Prints the character counts.\n",
        "    \"\"\"\n",
        "    char_count = {}\n",
        "    for char in input_string:\n",
        "        if char in char_count:\n",
        "            char_count[char] += 1\n",
        "        else:\n",
        "            char_count[char] = 1\n",
        "\n",
        "    output = ', '.join([f\"'{char}':{count}\" for char, count in char_count.items()])\n",
        "    print(output)\n",
        "\n",
        "# Example usage\n",
        "count_characters(\"Hello\")  # Output: 'H':1, 'e':1, 'l':2, 'o':1\n"
      ],
      "metadata": {
        "colab": {
          "base_uri": "https://localhost:8080/"
        },
        "id": "e64bLz_sCZcU",
        "outputId": "d7538099-2ea1-4e9c-d981-94afcb59b76a"
      },
      "execution_count": null,
      "outputs": [
        {
          "output_type": "stream",
          "name": "stdout",
          "text": [
            "'H':1, 'e':1, 'l':2, 'o':1\n"
          ]
        }
      ]
    }
  ]
}