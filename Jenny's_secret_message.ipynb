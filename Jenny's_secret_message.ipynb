{
  "nbformat": 4,
  "nbformat_minor": 0,
  "metadata": {
    "colab": {
      "provenance": [],
      "authorship_tag": "ABX9TyPIT0BXUrD/DmwLY/PKwL1A",
      "include_colab_link": true
    },
    "kernelspec": {
      "name": "python3",
      "display_name": "Python 3"
    },
    "language_info": {
      "name": "python"
    }
  },
  "cells": [
    {
      "cell_type": "markdown",
      "metadata": {
        "id": "view-in-github",
        "colab_type": "text"
      },
      "source": [
        "<a href=\"https://colab.research.google.com/github/Lily88612/PrimerRepo/blob/main/Jenny's_secret_message.ipynb\" target=\"_parent\"><img src=\"https://colab.research.google.com/assets/colab-badge.svg\" alt=\"Open In Colab\"/></a>"
      ]
    },
    {
      "cell_type": "code",
      "execution_count": null,
      "metadata": {
        "id": "-A1s8bYj7PT_"
      },
      "outputs": [],
      "source": [
        "# Solicitar el nombre de usuario\n",
        "name = input(\"Please enter your Nick Name: \")\n",
        "\n",
        "# Definir la función de saludo\n",
        "def saludo(name):\n",
        "    if name == \"Johnny\":\n",
        "        print(\"Welcome, Johnny, have a nice day!\")\n",
        "    else:\n",
        "        print(f\"Hello, {name}\")\n",
        "\n",
        "# Llamar a la función de saludo\n",
        "saludo(name)\n",
        "#Jenny has written a function that returns a greeting for a user. However,\n",
        "# she's in love with Johnny, and would like to greet him slightly different. She added a special case to her function, but she made a mistake."
      ]
    }
  ]
}