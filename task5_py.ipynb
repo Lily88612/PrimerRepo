{
  "nbformat": 4,
  "nbformat_minor": 0,
  "metadata": {
    "colab": {
      "provenance": [],
      "authorship_tag": "ABX9TyOzygjcLi20T+m8huUNlIfF",
      "include_colab_link": true
    },
    "kernelspec": {
      "name": "python3",
      "display_name": "Python 3"
    },
    "language_info": {
      "name": "python"
    }
  },
  "cells": [
    {
      "cell_type": "markdown",
      "metadata": {
        "id": "view-in-github",
        "colab_type": "text"
      },
      "source": [
        "<a href=\"https://colab.research.google.com/github/Lily88612/PrimerRepo/blob/main/task5_py.ipynb\" target=\"_parent\"><img src=\"https://colab.research.google.com/assets/colab-badge.svg\" alt=\"Open In Colab\"/></a>"
      ]
    },
    {
      "cell_type": "code",
      "execution_count": 1,
      "metadata": {
        "colab": {
          "base_uri": "https://localhost:8080/"
        },
        "id": "teu8jDueLWRb",
        "outputId": "76a8a4b4-192b-476f-b2fb-cf63a20469b6"
      },
      "outputs": [
        {
          "output_type": "stream",
          "name": "stdout",
          "text": [
            "[1.0, 2.0, 3.0, 4.0, 5.0]\n"
          ]
        }
      ],
      "source": [
        "# Create a list that contains elements of integer type\n",
        "int_list = [1, 2, 3, 4, 5]\n",
        "\n",
        "# Use a loop to change the type of these elements to floating type\n",
        "float_list = []\n",
        "for num in int_list:\n",
        "    float_list.append(float(num))\n",
        "\n",
        "# Print the new list\n",
        "print(float_list)\n"
      ]
    },
    {
      "cell_type": "code",
      "source": [
        "# Number of terms you want in the Fibonacci sequence\n",
        "\n",
        "num_terms = int(input(\"Enter a number: \"))\n",
        "\n",
        "# Starting values\n",
        "fib_sequence = [0, 1]\n",
        "\n",
        "# Generate Fibonacci sequence\n",
        "for i in range(2, num_terms):\n",
        "    next_term = fib_sequence[-1] + fib_sequence[-2]\n",
        "    fib_sequence.append(next_term)\n",
        "\n",
        "# Print the Fibonacci sequence\n",
        "print(fib_sequence)\n",
        "#Es tomar el último término (fib_sequence[-1]) y el penúltimo término (fib_sequence[-2]) de la lista fib_sequence, sumarlos, y asignar el resultado a next_term. Luego, next_term se añade a la lista fib_sequence para continuar la secuencia de Fibonacci."
      ],
      "metadata": {
        "colab": {
          "base_uri": "https://localhost:8080/"
        },
        "id": "epfUyRbYL2-u",
        "outputId": "4a46447c-e789-43e1-9c0f-7b34a4e6388c"
      },
      "execution_count": 5,
      "outputs": [
        {
          "output_type": "stream",
          "name": "stdout",
          "text": [
            "Enter a number: 10\n",
            "[0, 1, 1, 2, 3, 5, 8, 13, 21, 34]\n"
          ]
        }
      ]
    },
    {
      "cell_type": "code",
      "source": [
        "# Function to calculate factorial\n",
        "def factorial(n):\n",
        "    # Initialize result\n",
        "    result = 1\n",
        "\n",
        "    # Loop from 1 to n\n",
        "    for i in range(1, n + 1):\n",
        "        result *= i\n",
        "\n",
        "    return result\n",
        "\n",
        "# Get input from user\n",
        "number = int(input(\"Enter a number: \"))\n",
        "\n",
        "# Calculate factorial\n",
        "fact = factorial(number)\n",
        "\n",
        "# Print the result\n",
        "print(f\"The factorial of {number} is {fact}\")\n"
      ],
      "metadata": {
        "colab": {
          "base_uri": "https://localhost:8080/"
        },
        "id": "67ZZiXCqL6GR",
        "outputId": "ac542c63-6fe3-46bd-bfc9-6c975a3b592c"
      },
      "execution_count": 4,
      "outputs": [
        {
          "output_type": "stream",
          "name": "stdout",
          "text": [
            "Enter a number: 3\n",
            "The factorial of 3 is 6\n"
          ]
        }
      ]
    }
  ]
}