{
  "nbformat": 4,
  "nbformat_minor": 0,
  "metadata": {
    "colab": {
      "provenance": [],
      "authorship_tag": "ABX9TyNnqSkhgh7QyO4MA5twoV9I",
      "include_colab_link": true
    },
    "kernelspec": {
      "name": "python3",
      "display_name": "Python 3"
    },
    "language_info": {
      "name": "python"
    }
  },
  "cells": [
    {
      "cell_type": "markdown",
      "metadata": {
        "id": "view-in-github",
        "colab_type": "text"
      },
      "source": [
        "<a href=\"https://colab.research.google.com/github/Lily88612/PrimerRepo/blob/main/poligono_py.ipynb\" target=\"_parent\"><img src=\"https://colab.research.google.com/assets/colab-badge.svg\" alt=\"Open In Colab\"/></a>"
      ]
    },
    {
      "cell_type": "code",
      "execution_count": 1,
      "metadata": {
        "colab": {
          "base_uri": "https://localhost:8080/"
        },
        "id": "AM-pStFw8Ck0",
        "outputId": "d78e5a82-4ca2-43bb-ae75-23d4da7cbff5"
      },
      "outputs": [
        {
          "output_type": "stream",
          "name": "stdout",
          "text": [
            "Number of sides: 4\n",
            "Width: 5\n",
            "Height: 10\n",
            "Area: 50\n"
          ]
        }
      ],
      "source": [
        "class Polygon:\n",
        "    def __init__(self, num_sides):\n",
        "        self.num_sides = num_sides\n",
        "\n",
        "    def get_num_sides(self):\n",
        "        return self.num_sides\n",
        "\n",
        "class Rectangle(Polygon):\n",
        "    def __init__(self, width, height):\n",
        "        super().__init__(num_sides=4)  # A rectangle has 4 sides\n",
        "        self.width = width\n",
        "        self.height = height\n",
        "\n",
        "    def area(self):\n",
        "        return self.width * self.height\n",
        "\n",
        "    def get_dimensions(self):\n",
        "        return self.width, self.height\n",
        "\n",
        "# Ensure the class definition is run before creating an instance\n",
        "rect = Rectangle(5, 10)\n",
        "\n",
        "# Get the number of sides\n",
        "print(\"Number of sides:\", rect.get_num_sides())\n",
        "\n",
        "# Get the dimensions of the rectangle\n",
        "width, height = rect.get_dimensions()\n",
        "print(\"Width:\", width)\n",
        "print(\"Height:\", height)\n",
        "\n",
        "# Calculate the area of the rectangle\n",
        "print(\"Area:\", rect.area())\n"
      ]
    }
  ]
}